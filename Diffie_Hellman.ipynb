{
 "cells": [
  {
   "cell_type": "markdown",
   "metadata": {},
   "source": [
    "# DIFFIE-HELLMAN KEY EXCHANGE"
   ]
  },
  {
   "cell_type": "markdown",
   "metadata": {},
   "source": [
    "**TO CHECK GIVEN NUMBER IS PRIME OR NOT**"
   ]
  },
  {
   "cell_type": "code",
   "execution_count": 11,
   "metadata": {},
   "outputs": [],
   "source": [
    "import math\n",
    "\n",
    "def is_prime(n):\n",
    "    if(n<=1):\n",
    "        return False\n",
    "    \n",
    "    for i in range(2,int(math.sqrt(n))):\n",
    "        if(n%i==0):\n",
    "            return False\n",
    "    \n",
    "    return True"
   ]
  },
  {
   "cell_type": "markdown",
   "metadata": {},
   "source": [
    "**TO FIND PRIMITIVE ROOT BY EXPLORING ALL POSSIBLE VALUES**\n",
    "\n",
    "- If there is no repetitive values in set - s, then number chosen is a primitive root"
   ]
  },
  {
   "cell_type": "code",
   "execution_count": 12,
   "metadata": {},
   "outputs": [],
   "source": [
    "def primitive_root(P):\n",
    "    for Q in range(1,P):\n",
    "        s=set()\n",
    "        flag=1\n",
    "\n",
    "        for powers in range(0,P-1):\n",
    "            temp=(Q**powers)%P\n",
    "\n",
    "            if(temp in s):\n",
    "                flag=0\n",
    "                break\n",
    "\n",
    "            s.add(temp)\n",
    "\n",
    "        if(flag==1):\n",
    "            return Q\n",
    "    "
   ]
  },
  {
   "cell_type": "markdown",
   "metadata": {},
   "source": [
    "**TO FIND PRIMITIVE ROOT BY EXPLORING ONLY SPECIFIC VALUES VALUES**\n",
    "\n",
    "- phi = P-1\n",
    "- Find prime factors of phi\n",
    "- Find powers by dividing phi with all possible prime factors, one-by-one\n",
    "- Start from Q = 2 and go till P-1\n",
    "- If (Q^power)%P is 1 for any one of the powers, then the number chosen is not a primitive root"
   ]
  },
  {
   "cell_type": "code",
   "execution_count": 13,
   "metadata": {},
   "outputs": [],
   "source": [
    "def primitive_root_efficient(P):\n",
    "    def prime_factors(phi):\n",
    "        s=set()\n",
    "        \n",
    "        for i in range(2,phi+1):\n",
    "            if(phi%i==0 and is_prime(i)):\n",
    "                s.add(i)\n",
    "        \n",
    "        return s\n",
    "    \n",
    "    def powers(phi,factors):\n",
    "        s=set()\n",
    "        \n",
    "        for i in factors:\n",
    "            s.add(int(phi/i))\n",
    "        \n",
    "        return s\n",
    "    \n",
    "    def root(P,powers):\n",
    "        for Q in range(2,P):\n",
    "            temp=set()\n",
    "            \n",
    "            for i in powers:\n",
    "                temp.add((Q**i)%P)\n",
    "            \n",
    "            if(1 not in temp):\n",
    "                return Q\n",
    "    \n",
    "    factors=prime_factors(P-1)\n",
    "    power=powers(P-1,factors)\n",
    "    Q=root(P,power)\n",
    "    \n",
    "    return Q"
   ]
  },
  {
   "cell_type": "markdown",
   "metadata": {},
   "source": [
    "**IMPLEMENTATION**"
   ]
  },
  {
   "cell_type": "code",
   "execution_count": 28,
   "metadata": {},
   "outputs": [
    {
     "name": "stdout",
     "output_type": "stream",
     "text": [
      "ENTER A PRIME NUMBER = 353\n",
      "A, ENTER YOUR PRIVATE KEY = 4\n",
      "B, ENTER YOUR PRIVATE KEY = 10\n",
      "\n",
      "\n",
      "PUBLIC-KEY, P = 353\n",
      "PUBLIC-KEY, Q = 3\n",
      "\n",
      "SECRET KEY SHARED IS 34\n"
     ]
    }
   ],
   "source": [
    "if __name__==\"__main__\":\n",
    "    \n",
    "    while(True):\n",
    "        P=int(input(\"ENTER A PRIME NUMBER = \"))\n",
    "        \n",
    "        if(is_prime(P)):\n",
    "            break\n",
    "        \n",
    "        print(f'NUMBER IS NOT PRIME\\n')\n",
    "    \n",
    "    Q=primitive_root_efficient(P) # Q IS PRIMITIVE ROOT\n",
    "    \n",
    "    xa=int(input(\"A, ENTER YOUR PRIVATE KEY = \"))\n",
    "    xb=int(input(\"B, ENTER YOUR PRIVATE KEY = \"))\n",
    "    \n",
    "    ya=(Q**xa)%P\n",
    "    yb=(Q**xb)%P\n",
    "    \n",
    "    ka=(yb**xa)%P\n",
    "    kb=(ya**xb)%P\n",
    "    \n",
    "    if(ka==kb):\n",
    "        print(f'\\n')\n",
    "        print(f'PUBLIC-KEY, P = {P}')\n",
    "        print(f'PUBLIC-KEY, Q = {Q}')\n",
    "        print(f'\\nSECRET KEY SHARED IS {ka}')"
   ]
  }
 ],
 "metadata": {
  "kernelspec": {
   "display_name": "Python 3",
   "language": "python",
   "name": "python3"
  },
  "language_info": {
   "codemirror_mode": {
    "name": "ipython",
    "version": 3
   },
   "file_extension": ".py",
   "mimetype": "text/x-python",
   "name": "python",
   "nbconvert_exporter": "python",
   "pygments_lexer": "ipython3",
   "version": "3.8.5"
  }
 },
 "nbformat": 4,
 "nbformat_minor": 4
}
