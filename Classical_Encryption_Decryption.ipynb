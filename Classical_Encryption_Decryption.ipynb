{
 "cells": [
  {
   "cell_type": "markdown",
   "metadata": {},
   "source": [
    "# SHIFT-CIPHER"
   ]
  },
  {
   "cell_type": "markdown",
   "metadata": {},
   "source": [
    "**ENCRYPTION**"
   ]
  },
  {
   "cell_type": "code",
   "execution_count": 1,
   "metadata": {},
   "outputs": [
    {
     "name": "stdout",
     "output_type": "stream",
     "text": [
      "ENTER PLAIN-TEXT = Keep the diamonds safe\n",
      "ENTER KEY = 5\n",
      "\n",
      "PLAIN-TEXT = keep the diamonds safe\n",
      "CIPHER-TEXT = fzzk ocz ydvhjiyn nvaz\n"
     ]
    }
   ],
   "source": [
    "import string\n",
    "\n",
    "def caeser_dict():\n",
    "    key=int(input(\"ENTER KEY = \"))\n",
    "    \n",
    "    d={\" \":\" \",\".\":\".\",\",\":\",\"}\n",
    "    \n",
    "    letters=string.ascii_lowercase\n",
    "\n",
    "    for i in range(0,len(letters)):\n",
    "        d[letters[i]]=letters[i-key]\n",
    "\n",
    "    return d\n",
    "    \n",
    "plain_text=input(\"ENTER PLAIN-TEXT = \")\n",
    "\n",
    "d=caeser_dict()\n",
    "\n",
    "plain_text=plain_text.lower()\n",
    "\n",
    "cipher_text=\"\"\n",
    "\n",
    "for i in plain_text:\n",
    "    cipher_text=cipher_text+d[i]\n",
    "\n",
    "print(f'\\nPLAIN-TEXT = {plain_text}')\n",
    "print(f'CIPHER-TEXT = {cipher_text}')\n"
   ]
  },
  {
   "cell_type": "markdown",
   "metadata": {},
   "source": [
    "****"
   ]
  },
  {
   "cell_type": "markdown",
   "metadata": {},
   "source": [
    "**DECRYPTION**"
   ]
  },
  {
   "cell_type": "code",
   "execution_count": 2,
   "metadata": {},
   "outputs": [
    {
     "name": "stdout",
     "output_type": "stream",
     "text": [
      "ENTER CIPHER-TEXT = fzzk ocz ydvhjiyn nvaz\n",
      "ENTER KEY = 5\n",
      "\n",
      "CIPHER-TEXT = fzzk ocz ydvhjiyn nvaz\n",
      "PLAIN-TEXT = keep the diamonds safe\n"
     ]
    }
   ],
   "source": [
    "import string\n",
    "\n",
    "def caeser_dict():\n",
    "    key=int(input(\"ENTER KEY = \"))\n",
    "    \n",
    "    d={\" \":\" \",\".\":\".\",\",\":\",\"}\n",
    "    \n",
    "    letters=string.ascii_lowercase\n",
    "\n",
    "    for i in range(0,len(letters)):\n",
    "        d[letters[i-key]]=letters[i]\n",
    "\n",
    "    return d\n",
    "    \n",
    "cipher_text=input(\"ENTER CIPHER-TEXT = \")\n",
    "\n",
    "d=caeser_dict()\n",
    "\n",
    "cipher_text=cipher_text.lower()\n",
    "\n",
    "plain_text=\"\"\n",
    "\n",
    "for i in cipher_text:\n",
    "    plain_text=plain_text+d[i]\n",
    "\n",
    "print(f'\\nCIPHER-TEXT = {cipher_text}')\n",
    "print(f'PLAIN-TEXT = {plain_text}')\n"
   ]
  },
  {
   "cell_type": "markdown",
   "metadata": {},
   "source": [
    "****"
   ]
  },
  {
   "cell_type": "markdown",
   "metadata": {},
   "source": [
    "**CRYPTANALYSIS**\n",
    "\n",
    "BRUTE-FORCE ATTACK : By trying all the possible shifts, cipher-text can be decrypted"
   ]
  },
  {
   "cell_type": "code",
   "execution_count": 3,
   "metadata": {},
   "outputs": [
    {
     "name": "stdout",
     "output_type": "stream",
     "text": [
      "ENTER CIPHER-TEXT = fzzk ocz ydvhjiyn nvaz\n",
      "\n",
      "------\n",
      "KEY-0\n",
      "------\n",
      "\n",
      "CIPHER-TEXT = fzzk ocz ydvhjiyn nvaz\n",
      "PLAIN-TEXT = fzzk ocz ydvhjiyn nvaz\n",
      "\n",
      "------\n",
      "KEY-1\n",
      "------\n",
      "\n",
      "CIPHER-TEXT = fzzk ocz ydvhjiyn nvaz\n",
      "PLAIN-TEXT = gaal pda zewikjzo owba\n",
      "\n",
      "------\n",
      "KEY-2\n",
      "------\n",
      "\n",
      "CIPHER-TEXT = fzzk ocz ydvhjiyn nvaz\n",
      "PLAIN-TEXT = hbbm qeb afxjlkap pxcb\n",
      "\n",
      "------\n",
      "KEY-3\n",
      "------\n",
      "\n",
      "CIPHER-TEXT = fzzk ocz ydvhjiyn nvaz\n",
      "PLAIN-TEXT = iccn rfc bgykmlbq qydc\n",
      "\n",
      "------\n",
      "KEY-4\n",
      "------\n",
      "\n",
      "CIPHER-TEXT = fzzk ocz ydvhjiyn nvaz\n",
      "PLAIN-TEXT = jddo sgd chzlnmcr rzed\n",
      "\n",
      "------\n",
      "KEY-5\n",
      "------\n",
      "\n",
      "CIPHER-TEXT = fzzk ocz ydvhjiyn nvaz\n",
      "PLAIN-TEXT = keep the diamonds safe\n",
      "\n",
      "------\n",
      "KEY-6\n",
      "------\n",
      "\n",
      "CIPHER-TEXT = fzzk ocz ydvhjiyn nvaz\n",
      "PLAIN-TEXT = lffq uif ejbnpoet tbgf\n",
      "\n",
      "------\n",
      "KEY-7\n",
      "------\n",
      "\n",
      "CIPHER-TEXT = fzzk ocz ydvhjiyn nvaz\n",
      "PLAIN-TEXT = mggr vjg fkcoqpfu uchg\n",
      "\n",
      "------\n",
      "KEY-8\n",
      "------\n",
      "\n",
      "CIPHER-TEXT = fzzk ocz ydvhjiyn nvaz\n",
      "PLAIN-TEXT = nhhs wkh gldprqgv vdih\n",
      "\n",
      "------\n",
      "KEY-9\n",
      "------\n",
      "\n",
      "CIPHER-TEXT = fzzk ocz ydvhjiyn nvaz\n",
      "PLAIN-TEXT = oiit xli hmeqsrhw weji\n",
      "\n",
      "------\n",
      "KEY-10\n",
      "------\n",
      "\n",
      "CIPHER-TEXT = fzzk ocz ydvhjiyn nvaz\n",
      "PLAIN-TEXT = pjju ymj infrtsix xfkj\n",
      "\n",
      "------\n",
      "KEY-11\n",
      "------\n",
      "\n",
      "CIPHER-TEXT = fzzk ocz ydvhjiyn nvaz\n",
      "PLAIN-TEXT = qkkv znk jogsutjy yglk\n",
      "\n",
      "------\n",
      "KEY-12\n",
      "------\n",
      "\n",
      "CIPHER-TEXT = fzzk ocz ydvhjiyn nvaz\n",
      "PLAIN-TEXT = rllw aol kphtvukz zhml\n",
      "\n",
      "------\n",
      "KEY-13\n",
      "------\n",
      "\n",
      "CIPHER-TEXT = fzzk ocz ydvhjiyn nvaz\n",
      "PLAIN-TEXT = smmx bpm lqiuwvla ainm\n",
      "\n",
      "------\n",
      "KEY-14\n",
      "------\n",
      "\n",
      "CIPHER-TEXT = fzzk ocz ydvhjiyn nvaz\n",
      "PLAIN-TEXT = tnny cqn mrjvxwmb bjon\n",
      "\n",
      "------\n",
      "KEY-15\n",
      "------\n",
      "\n",
      "CIPHER-TEXT = fzzk ocz ydvhjiyn nvaz\n",
      "PLAIN-TEXT = uooz dro nskwyxnc ckpo\n",
      "\n",
      "------\n",
      "KEY-16\n",
      "------\n",
      "\n",
      "CIPHER-TEXT = fzzk ocz ydvhjiyn nvaz\n",
      "PLAIN-TEXT = vppa esp otlxzyod dlqp\n",
      "\n",
      "------\n",
      "KEY-17\n",
      "------\n",
      "\n",
      "CIPHER-TEXT = fzzk ocz ydvhjiyn nvaz\n",
      "PLAIN-TEXT = wqqb ftq pumyazpe emrq\n",
      "\n",
      "------\n",
      "KEY-18\n",
      "------\n",
      "\n",
      "CIPHER-TEXT = fzzk ocz ydvhjiyn nvaz\n",
      "PLAIN-TEXT = xrrc gur qvnzbaqf fnsr\n",
      "\n",
      "------\n",
      "KEY-19\n",
      "------\n",
      "\n",
      "CIPHER-TEXT = fzzk ocz ydvhjiyn nvaz\n",
      "PLAIN-TEXT = yssd hvs rwoacbrg gots\n",
      "\n",
      "------\n",
      "KEY-20\n",
      "------\n",
      "\n",
      "CIPHER-TEXT = fzzk ocz ydvhjiyn nvaz\n",
      "PLAIN-TEXT = ztte iwt sxpbdcsh hput\n",
      "\n",
      "------\n",
      "KEY-21\n",
      "------\n",
      "\n",
      "CIPHER-TEXT = fzzk ocz ydvhjiyn nvaz\n",
      "PLAIN-TEXT = auuf jxu tyqcedti iqvu\n",
      "\n",
      "------\n",
      "KEY-22\n",
      "------\n",
      "\n",
      "CIPHER-TEXT = fzzk ocz ydvhjiyn nvaz\n",
      "PLAIN-TEXT = bvvg kyv uzrdfeuj jrwv\n",
      "\n",
      "------\n",
      "KEY-23\n",
      "------\n",
      "\n",
      "CIPHER-TEXT = fzzk ocz ydvhjiyn nvaz\n",
      "PLAIN-TEXT = cwwh lzw vasegfvk ksxw\n",
      "\n",
      "------\n",
      "KEY-24\n",
      "------\n",
      "\n",
      "CIPHER-TEXT = fzzk ocz ydvhjiyn nvaz\n",
      "PLAIN-TEXT = dxxi max wbtfhgwl ltyx\n",
      "\n",
      "------\n",
      "KEY-25\n",
      "------\n",
      "\n",
      "CIPHER-TEXT = fzzk ocz ydvhjiyn nvaz\n",
      "PLAIN-TEXT = eyyj nby xcugihxm muzy\n"
     ]
    }
   ],
   "source": [
    "import string\n",
    "\n",
    "def caeser_dict(key):\n",
    "    d={\" \":\" \",\".\":\".\",\",\":\",\"}\n",
    "    \n",
    "    letters=string.ascii_lowercase\n",
    "\n",
    "    for i in range(0,len(letters)):\n",
    "        d[letters[i-key]]=letters[i]\n",
    "\n",
    "    return d\n",
    "\n",
    "\n",
    "cipher_text=input(\"ENTER CIPHER-TEXT = \")\n",
    "\n",
    "for i in range(0,26):\n",
    "    d=caeser_dict(i)\n",
    "    \n",
    "    print()\n",
    "    print(\"-\"*6)\n",
    "    print(f'KEY-{i}')\n",
    "    print(\"-\"*6)\n",
    "    \n",
    "    cipher_text=cipher_text.lower()\n",
    "\n",
    "    plain_text=\"\"\n",
    "\n",
    "    for i in cipher_text:\n",
    "        plain_text=plain_text+d[i]\n",
    "\n",
    "    print(f'\\nCIPHER-TEXT = {cipher_text}')\n",
    "    print(f'PLAIN-TEXT = {plain_text}')\n",
    "\n"
   ]
  },
  {
   "cell_type": "markdown",
   "metadata": {},
   "source": [
    "****\n",
    "****"
   ]
  },
  {
   "cell_type": "markdown",
   "metadata": {},
   "source": [
    "# MONO-ALPHABETIC SHIFT CIPHER"
   ]
  },
  {
   "cell_type": "markdown",
   "metadata": {},
   "source": [
    "**ENCRYPTION**"
   ]
  },
  {
   "cell_type": "code",
   "execution_count": 4,
   "metadata": {},
   "outputs": [
    {
     "name": "stdout",
     "output_type": "stream",
     "text": [
      "ENTER PLAIN-TEXT = Keep the diamonds safe\n",
      "ENTER KEY = qwertyuiopasdfghjklzxcvbnm\n",
      "\n",
      "PLAIN-TEXT = keep the diamonds safe\n",
      "CIPHER-TEXT = atth zit roqdgfrl lqyt\n"
     ]
    }
   ],
   "source": [
    "import string\n",
    "\n",
    "def caeser_dict():\n",
    "    key=input(\"ENTER KEY = \")\n",
    "    \n",
    "    letters=string.ascii_lowercase\n",
    "\n",
    "    d=dict(zip(letters,key))\n",
    "    \n",
    "    d[\" \"]=\" \"\n",
    "    d[\".\"]=\".\"\n",
    "    d[\",\"]=\",\"\n",
    "\n",
    "    return d\n",
    "    \n",
    "plain_text=input(\"ENTER PLAIN-TEXT = \")\n",
    "\n",
    "d=caeser_dict()\n",
    "\n",
    "plain_text=plain_text.lower()\n",
    "\n",
    "cipher_text=\"\"\n",
    "\n",
    "for i in plain_text:\n",
    "    cipher_text=cipher_text+d[i]\n",
    "\n",
    "print(f'\\nPLAIN-TEXT = {plain_text}')\n",
    "print(f'CIPHER-TEXT = {cipher_text}')\n"
   ]
  },
  {
   "cell_type": "markdown",
   "metadata": {},
   "source": [
    "****"
   ]
  },
  {
   "cell_type": "markdown",
   "metadata": {},
   "source": [
    "**DECRYPTION**"
   ]
  },
  {
   "cell_type": "code",
   "execution_count": 5,
   "metadata": {},
   "outputs": [
    {
     "name": "stdout",
     "output_type": "stream",
     "text": [
      "ENTER CIPHER-TEXT = atth zit roqdgfrl lqyt\n",
      "ENTER KEY = qwertyuiopasdfghjklzxcvbnm\n",
      "\n",
      "CIPHER-TEXT = atth zit roqdgfrl lqyt\n",
      "PLAIN-TEXT = keep the diamonds safe\n"
     ]
    }
   ],
   "source": [
    "import string\n",
    "\n",
    "def caeser_dict():\n",
    "    key=input(\"ENTER KEY = \")\n",
    "    \n",
    "    letters=string.ascii_lowercase\n",
    "\n",
    "    d=dict(zip(key,letters))\n",
    "    \n",
    "    d[\" \"]=\" \"\n",
    "    d[\".\"]=\".\"\n",
    "    d[\",\"]=\",\"\n",
    "\n",
    "    return d\n",
    "    \n",
    "cipher_text=input(\"ENTER CIPHER-TEXT = \")\n",
    "\n",
    "d=caeser_dict()\n",
    "\n",
    "cipher_text=cipher_text.lower()\n",
    "\n",
    "plain_text=\"\"\n",
    "\n",
    "for i in cipher_text:\n",
    "    plain_text=plain_text+d[i]\n",
    "\n",
    "print(f'\\nCIPHER-TEXT = {cipher_text}')\n",
    "print(f'PLAIN-TEXT = {plain_text}')"
   ]
  },
  {
   "cell_type": "markdown",
   "metadata": {},
   "source": [
    "****"
   ]
  },
  {
   "cell_type": "markdown",
   "metadata": {},
   "source": [
    "**CRYPTANALYSIS**\n",
    "\n",
    "- Total No. of Keys = 26!\n",
    "- Although this method is better than the other previous one, message could also be decrypted here by using super-computers"
   ]
  },
  {
   "cell_type": "markdown",
   "metadata": {},
   "source": [
    "****\n",
    "****"
   ]
  },
  {
   "cell_type": "markdown",
   "metadata": {},
   "source": [
    "# POLY-ALPHABETIC SHIFT CIPHER (VIGENERE)"
   ]
  },
  {
   "cell_type": "markdown",
   "metadata": {},
   "source": [
    "**ENCRYPTION**"
   ]
  },
  {
   "cell_type": "code",
   "execution_count": 6,
   "metadata": {},
   "outputs": [
    {
     "name": "stdout",
     "output_type": "stream",
     "text": [
      "ENTER PLAIN-TEXT = Keep the diamonds safe\n",
      "ENTER KEY = secret\n",
      "\n",
      "PLAIN TEXT = Keep the diamonds safe\n",
      "CIPHER TEXT = Cigg xaw hkrqhfhu jeyw\n"
     ]
    }
   ],
   "source": [
    "import string\n",
    "\n",
    "plain_text=input(\"ENTER PLAIN-TEXT = \")\n",
    "key=input(\"ENTER KEY = \")\n",
    "\n",
    "letters=string.ascii_lowercase\n",
    "\n",
    "cipher_text=\"\"\n",
    "\n",
    "count=0\n",
    "\n",
    "extra=[\" \",\",\",\".\"]\n",
    "\n",
    "for i in plain_text:\n",
    "    if(i in extra):\n",
    "        cipher_text=cipher_text+i\n",
    "        continue\n",
    "        \n",
    "    if(count==len(key)):\n",
    "        count=0\n",
    "    \n",
    "    shift=letters.index(key[count])\n",
    "    \n",
    "    if(i.islower()):\n",
    "        cipher_text=cipher_text+letters[(letters.index(i)+shift)%26]\n",
    "    else:\n",
    "        cipher_text=cipher_text+letters[(letters.index(i.lower())+shift)%26].upper()\n",
    "    \n",
    "    count=count+1\n",
    "\n",
    "print(f'\\nPLAIN TEXT = {plain_text}')\n",
    "print(f'CIPHER TEXT = {cipher_text}')"
   ]
  },
  {
   "cell_type": "markdown",
   "metadata": {},
   "source": [
    "***"
   ]
  },
  {
   "cell_type": "markdown",
   "metadata": {},
   "source": [
    "**DECRYPTION**"
   ]
  },
  {
   "cell_type": "code",
   "execution_count": 7,
   "metadata": {},
   "outputs": [
    {
     "name": "stdout",
     "output_type": "stream",
     "text": [
      "ENTER CIPHER-TEXT = Cigg xaw hkrqhfhu jeyw\n",
      "ENTER KEY = secret\n",
      "\n",
      "CIPHER TEXT = Cigg xaw hkrqhfhu jeyw\n",
      "PLAIN TEXT = Keep the diamonds safe\n"
     ]
    }
   ],
   "source": [
    "import string\n",
    "\n",
    "cipher_text=input(\"ENTER CIPHER-TEXT = \")\n",
    "key=input(\"ENTER KEY = \")\n",
    "\n",
    "letters=string.ascii_lowercase\n",
    "\n",
    "plain_text=\"\"\n",
    "\n",
    "count=0\n",
    "\n",
    "extra=[\" \",\",\",\".\"]\n",
    "\n",
    "for i in cipher_text:\n",
    "    if(i in extra):\n",
    "        plain_text=plain_text+i\n",
    "        continue\n",
    "        \n",
    "    if(count==len(key)):\n",
    "        count=0\n",
    "    \n",
    "    shift=letters.index(key[count])\n",
    "    \n",
    "    if(i.islower()):\n",
    "        plain_text=plain_text+letters[(letters.index(i)-shift)%26]\n",
    "    else:\n",
    "        plain_text=plain_text+letters[(letters.index(i.lower())-shift)%26].upper()\n",
    "    \n",
    "    count=count+1\n",
    "\n",
    "print(f'\\nCIPHER TEXT = {cipher_text}')\n",
    "print(f'PLAIN TEXT = {plain_text}')"
   ]
  },
  {
   "cell_type": "markdown",
   "metadata": {},
   "source": [
    "****"
   ]
  },
  {
   "cell_type": "markdown",
   "metadata": {},
   "source": [
    "**CRYPTANALYSIS**\n",
    "\n",
    "- Total No. of Keys = 26P1 + 26P2 + 26P3 + ... + 26P26\n",
    "- Although this method is better than the other previous one's, message could also be decrypted here by using super-computers\n",
    "- If length of key is known, then the message can be decrypted easily"
   ]
  }
 ],
 "metadata": {
  "kernelspec": {
   "display_name": "Python 3",
   "language": "python",
   "name": "python3"
  },
  "language_info": {
   "codemirror_mode": {
    "name": "ipython",
    "version": 3
   },
   "file_extension": ".py",
   "mimetype": "text/x-python",
   "name": "python",
   "nbconvert_exporter": "python",
   "pygments_lexer": "ipython3",
   "version": "3.8.5"
  }
 },
 "nbformat": 4,
 "nbformat_minor": 4
}
